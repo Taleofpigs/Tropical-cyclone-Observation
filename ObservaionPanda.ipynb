{
 "cells": [
  {
   "cell_type": "code",
   "execution_count": null,
   "id": "74c5ced2-d883-4db4-8457-0a9e59b5559d",
   "metadata": {},
   "outputs": [],
   "source": [
    "import pandas as pd\n",
    "import geopandas as gpd\n",
    "import numpy as np\n",
    "\n",
    "import seaborn as sns\n",
    "from matplotlib import pyplot as plt\n"
   ]
  },
  {
   "cell_type": "markdown",
   "id": "333ccc0b-e09f-4550-ae33-8182ca39e040",
   "metadata": {},
   "source": [
    "#### Read csv file by pd"
   ]
  },
  {
   "cell_type": "code",
   "execution_count": null,
   "id": "c89de902-9d75-405f-b33f-e922a1f4a4ad",
   "metadata": {},
   "outputs": [],
   "source": [
    "substrings = ['SID', 'SEASON', 'NUMBER', 'BASIN', 'SUBBASIN', 'NAME', 'ISO_TIME', 'BOM']"
   ]
  },
  {
   "cell_type": "code",
   "execution_count": null,
   "id": "d6acf7bb-669a-4d9f-87c9-20412b74eda6",
   "metadata": {},
   "outputs": [],
   "source": [
    "bom_columns = [col for col in df.columns \n",
    "              if any(sub in col for sub in substrings)]\n",
    "dtype_dict = {col: str for col in bom_columns}"
   ]
  },
  {
   "cell_type": "code",
   "execution_count": null,
   "id": "9fbe2ea1-4cba-44bb-a9f1-53497f1ec05c",
   "metadata": {},
   "outputs": [],
   "source": [
    "df = pd.read_csv(\n",
    "    '/g/data/v45/xw6141/PhD/data/ibtracs.SP.csv',   # Replace StringIO(data) with your actual file path\n",
    "    usecols=bom_columns,\n",
    "    dtype=dtype_dict\n",
    "    #keep_default_na=False, na_values=[\" \"]\n",
    ")\n",
    "#It is object # print(df['BOM_WIND'].dtype)"
   ]
  },
  {
   "cell_type": "code",
   "execution_count": null,
   "id": "18ab3657-91a9-45f1-a371-e5c157962d04",
   "metadata": {
    "scrolled": true
   },
   "outputs": [],
   "source": [
    "import pandas as pd\n",
    "import numpy as np\n",
    "\n",
    "# Example function to process each group in the DataFrame\n",
    "def concat_func(x):\n",
    "    try:\n",
    "        # Find the index of the minimum pressure, ignoring NaN values\n",
    "        min_pres_idx = np.nanargmin(x['BOM_PRES'].values)\n",
    "        \n",
    "        # Check if min_pres_idx is not NaN (valid index found)\n",
    "        if not pd.isna(min_pres_idx):\n",
    "            mpl_lat = x.iloc[min_pres_idx]['BOM_LAT']\n",
    "            mpl_lon = x.iloc[min_pres_idx]['BOM_LON']\n",
    "            mp_time = x.iloc[min_pres_idx]['ISO_TIME']\n",
    "            mp = np.nanmin(x['BOM_PRES'])\n",
    "        else:\n",
    "            mpl_lat = np.nan\n",
    "            mpl_lon = np.nan\n",
    "            mp_time = np.nan\n",
    "            mp = np.nan\n",
    "        \n",
    "        return pd.Series({\n",
    "            'Start': x['ISO_TIME'].min(),\n",
    "            'End': x['ISO_TIME'].max(),\n",
    "            'StartYear': x['SEASON'].min(),\n",
    "            'EndYear': x['SEASON'].max(),\n",
    "            'StLAT': x.loc[x['ISO_TIME'].idxmin()]['BOM_LAT'],\n",
    "            'EdLAT': x.loc[x['ISO_TIME'].idxmax()]['BOM_LAT'],\n",
    "            'StLONG': x.loc[x['ISO_TIME'].idxmin()]['BOM_LON'],\n",
    "            'EdLONG': x.loc[x['ISO_TIME'].idxmax()]['BOM_LON'],\n",
    "            'WND': x['BOM_WIND'].max(),\n",
    "            'PRS': mp,\n",
    "            'MPLAT': mpl_lat,\n",
    "            'MPLONG': mpl_lon,\n",
    "            'MPTIME': mp_time\n",
    "            # other calculations...\n",
    "        })\n",
    "    except ValueError:\n",
    "        return pd.Series({\n",
    "            'Start': np.nan,\n",
    "            'End': np.nan,\n",
    "            'StartYear': np.nan,\n",
    "            'EndYear': np.nan,\n",
    "            'StLAT': np.nan,\n",
    "            'EdLAT': np.nan,\n",
    "            'StLONG': np.nan,\n",
    "            'EdLONG': np.nan,\n",
    "            'WND': np.nan,\n",
    "            'PRS': np.nan,\n",
    "            'MPLAT': np.nan,\n",
    "            'MPLONG': np.nan,\n",
    "            'MPTIME': np.nan\n",
    "            # other calculations...\n",
    "        })\n",
    "\n",
    "# Assuming df is your DataFrame and BOM_PRES needs to be numeric\n",
    "df['BOM_PRES'] = pd.to_numeric(df['BOM_PRES'], errors='coerce')\n",
    "\n",
    "# Group by SID and apply concat_func\n",
    "weather = df.groupby(df['SID']).apply(concat_func).reset_index()\n",
    "\n",
    "print(weather)"
   ]
  },
  {
   "cell_type": "code",
   "execution_count": null,
   "id": "c87006bb-e3cd-435f-8abb-1bae9a85fdc5",
   "metadata": {},
   "outputs": [],
   "source": [
    "weather"
   ]
  },
  {
   "cell_type": "code",
   "execution_count": null,
   "id": "ad52deb4-5ecf-4e3d-9310-918600f67cba",
   "metadata": {},
   "outputs": [],
   "source": [
    "def concat_func(x):\n",
    "    # Find the minimum BOM_PRES value\n",
    "    x = x.dropna(subset=['BOM_PRES']).replace('', np.nan)\n",
    "    \n",
    "    # Find rows with minimum BOM_PRES values within each SID group\n",
    "    min_pres_rows = x[x['BOM_PRES'] == x['BOM_PRES'].min()]\n",
    "    \n",
    "    # If there are multiple rows with minimum BOM_PRES, choose the first occurrence\n",
    "    min_pres_row = min_pres_rows.iloc[0] if not min_pres_rows.empty else None\n",
    "    \n",
    "    \n",
    "    return pd.Series({\n",
    "        'Start': x['ISO_TIME'].min(),\n",
    "        'End': x['ISO_TIME'].max(),\n",
    "        'StartYear': x['SEASON'].min(),\n",
    "        'EndYear': x['SEASON'].max(),\n",
    "        'StLAT': x.loc[x['ISO_TIME'].idxmin(), 'BOM_LAT'],\n",
    "        'EdLAT': x.loc[x['ISO_TIME'].idxmax(), 'BOM_LAT'],\n",
    "        'StLONG': x.loc[x['ISO_TIME'].idxmin(), 'BOM_LON'],\n",
    "        'EdLONG': x.loc[x['ISO_TIME'].idxmax(), 'BOM_LON'],\n",
    "        'WND': x['BOM_WIND'].max(),\n",
    "        'PRS': min_pres_row['BOM_PRES'] if min_pres_row is not None else None,\n",
    "        'MPLAT': min_pres_row['BOM_LAT'] if min_pres_row is not None else None,\n",
    "        'MPLONG': min_pres_row['BOM_LON'] if min_pres_row is not None else None,\n",
    "        'MPTIME': min_pres_row['ISO_TIME'] if min_pres_row is not None else None,\n",
    "    })\n",
    "    \n",
    "weather=df.groupby(df['SID']).apply(concat_func).reset_index()"
   ]
  },
  {
   "cell_type": "code",
   "execution_count": null,
   "id": "fc7cf5fc-4b47-4a08-b128-201d91f88460",
   "metadata": {},
   "outputs": [],
   "source": [
    "#df = df.dropna(subset=['BOM_PRES']).replace('', np.nan)\n",
    "#a = df.groupby(df['SID'])['BOM_PRES'].max()"
   ]
  },
  {
   "cell_type": "code",
   "execution_count": null,
   "id": "d34d0b6e-95a2-422b-890c-a952a6555ca6",
   "metadata": {},
   "outputs": [],
   "source": [
    "# look up the column name\n",
    "weather_ = pd.DataFrame(weather)\n",
    "output_file = '/g/data/v45/xw6141/PhD/weather_pressuremin.csv'\n",
    "# Save the DataFrame to CSV\n",
    "weather_.to_csv(output_file, index=False)\n",
    "print(f\"DataFrame saved to {output_file}\")\n"
   ]
  },
  {
   "cell_type": "code",
   "execution_count": null,
   "id": "92e84c7c-cd0f-4fcf-8e85-4411275889c3",
   "metadata": {},
   "outputs": [],
   "source": [
    "df = pd.DataFrame(df)\n",
    "output_file = '/g/data/v45/xw6141/PhD/weather_df.csv'\n",
    "# Save the DataFrame to CSV\n",
    "df.to_csv(output_file, index=False)\n",
    "\n",
    "print(f\"DataFrame saved to {output_file}\")"
   ]
  },
  {
   "cell_type": "code",
   "execution_count": null,
   "id": "ae2e34ca-9b0e-44e2-b1ee-514ac5aff93d",
   "metadata": {},
   "outputs": [],
   "source": [
    "column_values = weather['PRS'].tolist()"
   ]
  },
  {
   "cell_type": "code",
   "execution_count": null,
   "id": "d3335a2a-2e35-4332-801c-435a3a9a736c",
   "metadata": {},
   "outputs": [],
   "source": [
    "print(column_values)"
   ]
  }
 ],
 "metadata": {
  "kernelspec": {
   "display_name": "Python [conda env:analysis3-23.10]",
   "language": "python",
   "name": "conda-env-analysis3-23.10-py"
  },
  "language_info": {
   "codemirror_mode": {
    "name": "ipython",
    "version": 3
   },
   "file_extension": ".py",
   "mimetype": "text/x-python",
   "name": "python",
   "nbconvert_exporter": "python",
   "pygments_lexer": "ipython3",
   "version": "3.10.13"
  }
 },
 "nbformat": 4,
 "nbformat_minor": 5
}
